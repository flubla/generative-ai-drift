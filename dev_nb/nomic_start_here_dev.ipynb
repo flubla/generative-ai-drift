{
 "cells": [
  {
   "cell_type": "code",
   "execution_count": 12,
   "metadata": {},
   "outputs": [
    {
     "name": "stderr",
     "output_type": "stream",
     "text": [
      "\u001b[32m2023-08-02 12:10:22.527\u001b[0m | \u001b[33m\u001b[1mWARNING \u001b[0m | \u001b[36mnomic.atlas\u001b[0m:\u001b[36mmap_embeddings\u001b[0m:\u001b[36m91\u001b[0m - \u001b[33m\u001b[1mAn ID field was not specified in your data so one was generated for you in insertion order.\u001b[0m\n",
      "\u001b[32m2023-08-02 12:10:36.658\u001b[0m | \u001b[1mINFO    \u001b[0m | \u001b[36mnomic.project\u001b[0m:\u001b[36m_create_project\u001b[0m:\u001b[36m779\u001b[0m - \u001b[1mCreating project `frightened-bronco` in organization `myemailiskevin`\u001b[0m\n",
      "\u001b[32m2023-08-02 12:10:44.599\u001b[0m | \u001b[1mINFO    \u001b[0m | \u001b[36mnomic.atlas\u001b[0m:\u001b[36mmap_embeddings\u001b[0m:\u001b[36m107\u001b[0m - \u001b[1mUploading embeddings to Atlas.\u001b[0m\n",
      "100%|██████████| 2/2 [00:06<00:00,  3.44s/it]\n",
      "\u001b[32m2023-08-02 12:10:51.789\u001b[0m | \u001b[1mINFO    \u001b[0m | \u001b[36mnomic.project\u001b[0m:\u001b[36m_add_data\u001b[0m:\u001b[36m1401\u001b[0m - \u001b[1mUpload succeeded.\u001b[0m\n",
      "\u001b[32m2023-08-02 12:10:51.800\u001b[0m | \u001b[1mINFO    \u001b[0m | \u001b[36mnomic.atlas\u001b[0m:\u001b[36mmap_embeddings\u001b[0m:\u001b[36m126\u001b[0m - \u001b[1mEmbedding upload succeeded.\u001b[0m\n",
      "\u001b[32m2023-08-02 12:11:03.473\u001b[0m | \u001b[1mINFO    \u001b[0m | \u001b[36mnomic.project\u001b[0m:\u001b[36mcreate_index\u001b[0m:\u001b[36m1111\u001b[0m - \u001b[1mCreated map `frightened-bronco` in project `frightened-bronco`: https://atlas.nomic.ai/map/c5cd04b1-e129-4344-b347-e53a6962f232/b6283232-68f5-4c81-862c-79ec2369c035\u001b[0m\n",
      "\u001b[32m2023-08-02 12:11:03.482\u001b[0m | \u001b[1mINFO    \u001b[0m | \u001b[36mnomic.atlas\u001b[0m:\u001b[36mmap_embeddings\u001b[0m:\u001b[36m139\u001b[0m - \u001b[1mfrightened-bronco: https://atlas.nomic.ai/map/c5cd04b1-e129-4344-b347-e53a6962f232/b6283232-68f5-4c81-862c-79ec2369c035\u001b[0m\n"
     ]
    },
    {
     "name": "stdout",
     "output_type": "stream",
     "text": [
      "[frightened-bronco: https://atlas.nomic.ai/map/c5cd04b1-e129-4344-b347-e53a6962f232/b6283232-68f5-4c81-862c-79ec2369c035]\n"
     ]
    }
   ],
   "source": [
    "import nomic\n",
    "from nomic import atlas\n",
    "import numpy as np\n",
    "import os\n",
    "from dotenv import load_dotenv\n",
    "load_dotenv()\n",
    "\n",
    "api_key = os.getenv('NOMIC_API_KEY')\n",
    "nomic.login(api_key)       \n",
    "\n",
    "num_embeddings = 10000\n",
    "embeddings = np.random.rand(num_embeddings, 256)\n",
    "        \n",
    "project = atlas.map_embeddings(embeddings=embeddings)\n",
    "print(project.maps)"
   ]
  },
  {
   "cell_type": "markdown",
   "metadata": {},
   "source": [
    "When you run the above code, you should get something like this at the end:\n",
    "\n",
    "frightened-bronco: https://atlas.nomic.ai/map/c5cd04b1-e129-4344-b347-e53a6962f232/b6283232-68f5-4c81-862c-79ec2369c035\n",
    "\n",
    "Open the URL\n",
    "\n",
    "```\n",
    "2023-08-02 12:10:22.527 | WARNING  | nomic.atlas:map_embeddings:91 - An ID field was not specified in your data so one was generated for you in insertion order.\n",
    "2023-08-02 12:10:36.658 | INFO     | nomic.project:_create_project:779 - Creating project `frightened-bronco` in organization `myemailiskevin`\n",
    "2023-08-02 12:10:44.599 | INFO     | nomic.atlas:map_embeddings:107 - Uploading embeddings to Atlas.\n",
    "100%|██████████| 2/2 [00:06<00:00,  3.44s/it]\n",
    "2023-08-02 12:10:51.789 | INFO     | nomic.project:_add_data:1401 - Upload succeeded.\n",
    "2023-08-02 12:10:51.800 | INFO     | nomic.atlas:map_embeddings:126 - Embedding upload succeeded.\n",
    "2023-08-02 12:11:03.473 | INFO     | nomic.project:create_index:1111 - Created map `frightened-bronco` in project `frightened-bronco`: https://atlas.nomic.ai/map/c5cd04b1-e129-4344-b347-e53a6962f232/b6283232-68f5-4c81-862c-79ec2369c035\n",
    "2023-08-02 12:11:03.482 | INFO     | nomic.atlas:map_embeddings:139 - frightened-bronco: https://atlas.nomic.ai/map/c5cd04b1-e129-4344-b347-e53a6962f232/b6283232-68f5-4c81-862c-79ec2369c035\n",
    "[frightened-bronco: https://atlas.nomic.ai/map/c5cd04b1-e129-4344-b347-e53a6962f232/b6283232-68f5-4c81-862c-79ec2369c035]\n",
    "```\n",
    "\n",
    "You should see something like this:\n",
    "\n",
    "\n",
    "![Shows a visualization of the vectors generated above](..//frightened-bronco.png \"Nomic Atlas Vector DB isualization\")\n"
   ]
  },
  {
   "cell_type": "markdown",
   "metadata": {},
   "source": []
  }
 ],
 "metadata": {
  "kernelspec": {
   "display_name": "base",
   "language": "python",
   "name": "python3"
  },
  "language_info": {
   "codemirror_mode": {
    "name": "ipython",
    "version": 3
   },
   "file_extension": ".py",
   "mimetype": "text/x-python",
   "name": "python",
   "nbconvert_exporter": "python",
   "pygments_lexer": "ipython3",
   "version": "3.11.4"
  },
  "orig_nbformat": 4
 },
 "nbformat": 4,
 "nbformat_minor": 2
}
