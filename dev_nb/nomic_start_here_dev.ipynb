{
 "cells": [
  {
   "cell_type": "code",
   "execution_count": null,
   "metadata": {},
   "outputs": [],
   "source": [
    "import nomic\n",
    "from nomic import atlas\n",
    "import numpy as np\n",
    "import os\n",
    "from dotenv import load_dotenv\n",
    "load_dotenv()\n",
    "\n",
    "api_key = os.getenv('NOMIC_API_KEY')\n",
    "nomic.login(api_key)       \n",
    "\n",
    "num_embeddings = 10000\n",
    "embeddings = np.random.rand(num_embeddings, 256)\n",
    "        \n",
    "project = atlas.map_embeddings(embeddings=embeddings)\n",
    "print(project.maps)"
   ]
  },
  {
   "cell_type": "markdown",
   "metadata": {},
   "source": [
    "When you run the above code, you should get something like this at the end of the output:\n",
    "\n",
    "frightened-bronco: https://atlas.nomic.ai/map/c5cd04b1-e129-4344-b347-e53a6962f232/b6283232-68f5-4c81-862c-79ec2369c035\n",
    "\n",
    "Open the URL\n",
    "\n",
    "You should see something like this:\n",
    "\n",
    "\n",
    "![Shows a visualization of the vectors generated above](..//frightened-bronco.png \"Nomic Atlas Vector DB isualization\")\n"
   ]
  },
  {
   "cell_type": "markdown",
   "metadata": {},
   "source": []
  }
 ],
 "metadata": {
  "kernelspec": {
   "display_name": "base",
   "language": "python",
   "name": "python3"
  },
  "language_info": {
   "codemirror_mode": {
    "name": "ipython",
    "version": 3
   },
   "file_extension": ".py",
   "mimetype": "text/x-python",
   "name": "python",
   "nbconvert_exporter": "python",
   "pygments_lexer": "ipython3",
   "version": "3.11.4"
  },
  "orig_nbformat": 4
 },
 "nbformat": 4,
 "nbformat_minor": 2
}
