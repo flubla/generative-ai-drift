{
 "cells": [
  {
   "cell_type": "code",
   "execution_count": 17,
   "metadata": {},
   "outputs": [],
   "source": [
    "# Connect\n",
    "import sqlite3\n",
    "DRIFT_DB_PATH = \"..\\\\data\\\\driftDb.db\"\n",
    "\n",
    "con = sqlite3.connect(DRIFT_DB_PATH)\n",
    "cursor = con.cursor()"
   ]
  },
  {
   "cell_type": "code",
   "execution_count": 18,
   "metadata": {},
   "outputs": [
    {
     "name": "stdout",
     "output_type": "stream",
     "text": [
      "Tables: \n",
      "\n"
     ]
    }
   ],
   "source": [
    "# list all tables\n",
    "def list_all_tables():\n",
    "    sql_query = \"SELECT name FROM sqlite_master WHERE type='table';\"\n",
    "    cursor.execute(sql_query)\n",
    "    print(\"Tables: \\n\".format(cursor.fetchall()))\n",
    "    \n",
    "list_all_tables()"
   ]
  },
  {
   "cell_type": "markdown",
   "metadata": {},
   "source": [
    "### drop all tables\n",
    "See dev_nb\\sqlite_db_dev.ipynb"
   ]
  },
  {
   "cell_type": "code",
   "execution_count": 19,
   "metadata": {},
   "outputs": [
    {
     "data": {
      "text/plain": [
       "('movie',)"
      ]
     },
     "execution_count": 19,
     "metadata": {},
     "output_type": "execute_result"
    }
   ],
   "source": [
    "cursor.execute(\"CREATE TABLE movie(title, year, score)\")\n",
    "res = cursor.execute(\"SELECT name FROM sqlite_master\")\n",
    "res.fetchone()"
   ]
  },
  {
   "cell_type": "code",
   "execution_count": null,
   "metadata": {},
   "outputs": [],
   "source": [
    "cursor.execute(\"\"\"\n",
    "    INSERT INTO movie VALUES\n",
    "        ('Monty Python and the Holy Grail', 1975, 8.2),\n",
    "        ('And Now for Something Completely Different', 1971, 7.5)\n",
    "\"\"\")\n"
   ]
  },
  {
   "cell_type": "code",
   "execution_count": 20,
   "metadata": {},
   "outputs": [],
   "source": [
    "con.commit()"
   ]
  },
  {
   "cell_type": "code",
   "execution_count": 21,
   "metadata": {},
   "outputs": [
    {
     "name": "stdout",
     "output_type": "stream",
     "text": [
      "INSERT INTO tSample (chat_id, sample_dt, cos_sim, completion ) VALUES ('chat_id', 'sample_dt', 'cos_sim', 'completion');\n"
     ]
    }
   ],
   "source": [
    "\n",
    "def insert_sample(chat_id, sample_dt, cos_sim, completion):\n",
    "    sql = \"INSERT INTO tSample (chat_id, sample_dt, cos_sim, completion ) VALUES ('{}', '{}', '{}', '{}');\".format(chat_id, sample_dt, cos_sim, completion)\n",
    "    print(sql)\n",
    "    \n",
    "insert_sample(\"chat_id\", \"sample_dt\", \"cos_sim\", \"completion\")\n"
   ]
  },
  {
   "cell_type": "code",
   "execution_count": 22,
   "metadata": {},
   "outputs": [
    {
     "data": {
      "text/plain": [
       "[]"
      ]
     },
     "execution_count": 22,
     "metadata": {},
     "output_type": "execute_result"
    }
   ],
   "source": [
    "res = cursor.execute(\"SELECT score FROM movie\")\n",
    "res.fetchall()"
   ]
  },
  {
   "cell_type": "code",
   "execution_count": 23,
   "metadata": {},
   "outputs": [],
   "source": [
    "data = [\n",
    "    (\"Monty Python Live at the Hollywood Bowl\", 1982, 7.9),\n",
    "    (\"Monty Python's The Meaning of Life\", 1983, 7.5),\n",
    "    (\"Monty Python's Life of Brian\", 1979, 8.0),\n",
    "]\n",
    "cursor.executemany(\"INSERT INTO movie VALUES(?, ?, ?)\", data)\n",
    "con.commit()  # Remember to commit the transaction after executing INSERT.\n"
   ]
  },
  {
   "cell_type": "code",
   "execution_count": 24,
   "metadata": {},
   "outputs": [
    {
     "name": "stdout",
     "output_type": "stream",
     "text": [
      "(1979, \"Monty Python's Life of Brian\")\n",
      "(1982, 'Monty Python Live at the Hollywood Bowl')\n",
      "(1983, \"Monty Python's The Meaning of Life\")\n"
     ]
    }
   ],
   "source": [
    "for row in cursor.execute(\"SELECT year, title FROM movie ORDER BY year\"):\n",
    "    print(row)\n"
   ]
  },
  {
   "cell_type": "code",
   "execution_count": 26,
   "metadata": {},
   "outputs": [
    {
     "name": "stdout",
     "output_type": "stream",
     "text": [
      "0 main c:\\Users\\kevin\\Documents\\GitHub\\zaidanseiko\\DriftPy\\data\\driftDb.db\n"
     ]
    }
   ],
   "source": [
    "import sqlite3\n",
    "conxn = sqlite3.connect(DRIFT_DB_PATH)\n",
    "cursor = conxn.cursor()\n",
    "cursor.execute(\"PRAGMA database_list\")\n",
    "rows = cursor.fetchall()\n",
    "\n",
    "for row in rows:\n",
    "    print(row[0], row[1], row[2])\n",
    "\n",
    "conxn.close()\n"
   ]
  },
  {
   "cell_type": "code",
   "execution_count": null,
   "metadata": {},
   "outputs": [],
   "source": [
    "new_con = sqlite3.connect(DRIFT_DB_PATH)\n",
    "new_cursor = new_con.cursor()\n",
    "res = new_cursor.execute(\"DROP TABLE IF EXISTS movie\")\n",
    "res.fetchall()\n",
    "res = new_cursor.execute(\"SELECT name FROM sqlite_master\")\n",
    "res.fetchone()\n",
    "new_con.close()"
   ]
  },
  {
   "cell_type": "code",
   "execution_count": null,
   "metadata": {},
   "outputs": [],
   "source": [
    "import sqlite3\n",
    "import datetime\n",
    "\n",
    "con = sqlite3.connect(DRIFT_DB_PATH)\n",
    "cursor = con.cursor()\n",
    "cursor.execute(\"\"\" PRAGMA foreign_keys = 0;\"\"\")\n",
    "cursor.execute(\"\"\" DELETE FROM tSample;\"\"\")\n",
    "cursor.execute(\"\"\" DROP TABLE tSample;\"\"\")\n",
    "cursor.execute(\"\"\" CREATE TABLE tSample (\n",
    "    chat_id              NOT NULL,\n",
    "    run_time     TEXT    NOT NULL,\n",
    "    cos_sim    NUMERIC   NOT NULL,\n",
    "    completion TEXT      NOT NULL\n",
    ");\"\"\")\n",
    "\n",
    "cursor.execute(\"\"\" PRAGMA foreign_keys = 1; \"\"\")\n",
    "res = cursor.execute(\"SELECT name FROM sqlite_master\")\n",
    "res.fetchone()\n",
    "\n",
    "run_time = ct = datetime.datetime.now().replace(second=0, microsecond=0)\n",
    "def insert_sample(chat_id, cos_sim, completion):\n",
    "    sql = \"INSERT INTO tSample (chat_id, run_time, cos_sim, completion ) VALUES ('{}', '{}', '{}', '{}');\".format(chat_id, run_time, cos_sim, completion)\n",
    "    print(sql)\n",
    "    cursor.execute(sql)\n",
    "    con.commit()\n",
    "    \n",
    "\n",
    "def insert_sample_default(chat_id, cos_sim, completion):\n",
    "    sql = \"INSERT INTO tSample (chat_id, run_time, cos_sim, completion ) VALUES ('{}', '{}', '{}', '{}');\".format(chat_id, run_time, cos_sim, completion)\n",
    "    print(sql)\n",
    "    cursor.execute(sql)\n",
    "    con.commit()    \n",
    "\n",
    "insert_sample_default(\"chat_id00000000\", 1.0, \"completion\")\n"
   ]
  },
  {
   "cell_type": "code",
   "execution_count": null,
   "metadata": {},
   "outputs": [],
   "source": [
    "import sqlite3\n",
    "con = sqlite3.connect(DRIFT_DB_PATH)\n",
    "cursor = con.cursor()\n",
    "\n",
    "cursor.execute(\"\"\" PRAGMA foreign_keys = 1; \"\"\")\n",
    "res = cursor.execute(\"SELECT name FROM sqlite_master\")\n",
    "res.fetchone()\n",
    "\n",
    "run_time = ct = datetime.datetime.now().replace(second=0, microsecond=0)\n",
    "def insert_sample(chat_id, cos_sim, completion):\n",
    "    sql = \"INSERT INTO tSample (chat_id, run_time, cos_sim, completion ) VALUES ('{}', '{}', '{}', '{}');\".format(chat_id, run_time, cos_sim, completion)\n",
    "    print(sql)\n",
    "    cursor.execute(sql)\n",
    "    con.commit()\n",
    "    \n",
    "\n",
    "def insert_sample_default(chat_id, cos_sim, completion):\n",
    "    sql = \"INSERT INTO tSample (chat_id, run_time, cos_sim, completion ) VALUES ('{}', '{}', '{}', '{}');\".format(chat_id, run_time, cos_sim, completion)\n",
    "    print(sql)\n",
    "    cursor.execute(sql)\n",
    "    con.commit()     \n",
    "\n",
    "insert_sample_default(\"chat_id\", \"cos_sim\", \"completion\")"
   ]
  },
  {
   "cell_type": "code",
   "execution_count": null,
   "metadata": {},
   "outputs": [],
   "source": [
    "import sqlite3\n",
    "con = sqlite3.connect(DRIFT_DB_PATH)\n",
    "cursor = con.cursor()\n",
    "for row in cursor.execute(\"SELECT chat_id, run_time, cos_sim, completion FROM tSample;\"):\n",
    "    print(row)\n",
    "\n",
    "con.close()"
   ]
  },
  {
   "cell_type": "code",
   "execution_count": null,
   "metadata": {},
   "outputs": [],
   "source": [
    "import sqlite3\n",
    "con = sqlite3.connect(DRIFT_DB_PATH)\n",
    "cursor = con.cursor()\n",
    "cursor.execute(\"DELETE FROM tSample;\")\n",
    "con.close()"
   ]
  }
 ],
 "metadata": {
  "kernelspec": {
   "display_name": "base",
   "language": "python",
   "name": "python3"
  },
  "language_info": {
   "codemirror_mode": {
    "name": "ipython",
    "version": 3
   },
   "file_extension": ".py",
   "mimetype": "text/x-python",
   "name": "python",
   "nbconvert_exporter": "python",
   "pygments_lexer": "ipython3",
   "version": "3.11.4"
  },
  "orig_nbformat": 4
 },
 "nbformat": 4,
 "nbformat_minor": 2
}
