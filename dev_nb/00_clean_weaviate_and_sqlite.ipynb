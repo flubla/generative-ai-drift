{
 "cells": [
  {
   "cell_type": "code",
   "execution_count": 1,
   "metadata": {},
   "outputs": [
    {
     "name": "stdout",
     "output_type": "stream",
     "text": [
      "Table count: \n",
      "Tables: \n",
      ": \n",
      "Table count: \n",
      "Tables: \n",
      ": \n"
     ]
    }
   ],
   "source": [
    "# Clean up!\n",
    "import sqlite3\n",
    "\n",
    "DRIFT_DB_PATH = \"..\\\\data\\\\driftDb.db\"\n",
    "\n",
    "con = sqlite3.connect(DRIFT_DB_PATH)\n",
    "cursor = con.cursor()\n",
    "\n",
    "# list all tables\n",
    "def list_all_tables():\n",
    "    sql_query = \"SELECT name FROM sqlite_master WHERE type='table';\"\n",
    "    cursor.execute(sql_query)\n",
    "    tables = cursor.fetchall()\n",
    "    print(\"Table count: \".format(len(tables)))\n",
    "    print(\"Tables: \\n\".format(tables))\n",
    "  \n",
    "TABLE_PARAMETER = \"{TABLE_PARAMETER}\"\n",
    "DROP_TABLE_SQL = f\"DROP TABLE {TABLE_PARAMETER};\"\n",
    "GET_TABLES_SQL = \"SELECT name FROM sqlite_schema WHERE type='table';\"\n",
    "\n",
    "def delete_all_tables(con):\n",
    "    tables = get_tables(con)\n",
    "    delete_tables(con, tables)\n",
    "\n",
    "def get_tables(con):\n",
    "    cursor = con.cursor()\n",
    "    cursor.execute(GET_TABLES_SQL)\n",
    "    tables = cursor.fetchall()\n",
    "    cursor.close()\n",
    "    return tables\n",
    "\n",
    "def delete_tables(con, tables):\n",
    "    cursor = con.cursor()\n",
    "    for table, in tables:\n",
    "        sql = DROP_TABLE_SQL.replace(TABLE_PARAMETER, table)\n",
    "        cursor.execute(sql)\n",
    "    cursor.close()\n",
    "\n",
    "list_all_tables()  \n",
    "delete_all_tables(con)    \n",
    "list_all_tables()\n"
   ]
  },
  {
   "cell_type": "code",
   "execution_count": 2,
   "metadata": {},
   "outputs": [
    {
     "name": "stdout",
     "output_type": "stream",
     "text": [
      "Creating Weaviate client\n",
      "Client created\n",
      "Deleting all previous schemas\n"
     ]
    }
   ],
   "source": [
    "import weaviate\n",
    "\n",
    "print(\"Creating Weaviate client\")\n",
    "client = weaviate.Client(\"http://localhost:8080\")\n",
    "print(\"Client created\")\n",
    "\n",
    "print(\"Deleting all schemas\")\n",
    "client.schema.delete_all()\n",
    "print(\"All schemas deleted.\")"
   ]
  }
 ],
 "metadata": {
  "kernelspec": {
   "display_name": "base",
   "language": "python",
   "name": "python3"
  },
  "language_info": {
   "codemirror_mode": {
    "name": "ipython",
    "version": 3
   },
   "file_extension": ".py",
   "mimetype": "text/x-python",
   "name": "python",
   "nbconvert_exporter": "python",
   "pygments_lexer": "ipython3",
   "version": "3.11.4"
  },
  "orig_nbformat": 4
 },
 "nbformat": 4,
 "nbformat_minor": 2
}
