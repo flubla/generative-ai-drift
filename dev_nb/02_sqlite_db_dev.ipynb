{
 "cells": [
  {
   "cell_type": "code",
   "execution_count": null,
   "metadata": {},
   "outputs": [],
   "source": [
    "# Connect\n",
    "import sqlite3\n",
    "DRIFT_DB_PATH = \"..\\\\data\\\\driftDb.db\"\n",
    "\n",
    "con = sqlite3.connect(DRIFT_DB_PATH)\n",
    "cursor = con.cursor()"
   ]
  },
  {
   "cell_type": "code",
   "execution_count": null,
   "metadata": {},
   "outputs": [],
   "source": [
    "# list all tables\n",
    "def list_all_tables():\n",
    "    sql_query = \"SELECT name FROM sqlite_master WHERE type='table';\"\n",
    "    cursor.execute(sql_query)\n",
    "    print(\"Tables: \\n\".format(cursor.fetchall()))\n",
    "    \n",
    "list_all_tables()"
   ]
  },
  {
   "cell_type": "code",
   "execution_count": null,
   "metadata": {},
   "outputs": [],
   "source": [
    "TABLE_PARAMETER = \"{TABLE_PARAMETER}\"\n",
    "DROP_TABLE_SQL = f\"DROP TABLE {TABLE_PARAMETER};\"\n",
    "GET_TABLES_SQL = \"SELECT name FROM sqlite_schema WHERE type='table';\"\n",
    "\n",
    "\n",
    "def delete_all_tables(con):\n",
    "    tables = get_tables(con)\n",
    "    delete_tables(con, tables)\n",
    "\n",
    "\n",
    "def get_tables(con):\n",
    "    cursor = con.cursor()\n",
    "    cursor.execute(GET_TABLES_SQL)\n",
    "    tables = cursor.fetchall()\n",
    "    cursor.close()\n",
    "    return tables\n",
    "\n",
    "\n",
    "def delete_tables(con, tables):\n",
    "    cursor = con.cursor()\n",
    "    for table, in tables:\n",
    "        sql = DROP_TABLE_SQL.replace(TABLE_PARAMETER, table)\n",
    "        cursor.execute(sql)\n",
    "    cursor.close()\n",
    "    \n",
    "    \n",
    "delete_all_tables(con)    \n",
    "\n",
    "list_all_tables()"
   ]
  },
  {
   "cell_type": "markdown",
   "metadata": {},
   "source": [
    "SQLite Basics"
   ]
  },
  {
   "cell_type": "code",
   "execution_count": null,
   "metadata": {},
   "outputs": [],
   "source": [
    "# CREATE\n",
    "\n",
    "cursor.execute(\"CREATE TABLE movie(title, year, score)\")\n",
    "res = cursor.execute(\"SELECT name FROM sqlite_master\")\n",
    "res.fetchone()"
   ]
  },
  {
   "cell_type": "code",
   "execution_count": null,
   "metadata": {},
   "outputs": [],
   "source": [
    "cursor.execute(\"\"\"\n",
    "    INSERT INTO movie VALUES\n",
    "        ('Monty Python and the Holy Grail', 1975, 8.2),\n",
    "        ('And Now for Something Completely Different', 1971, 7.5)\n",
    "\"\"\")\n"
   ]
  },
  {
   "cell_type": "code",
   "execution_count": null,
   "metadata": {},
   "outputs": [],
   "source": [
    "con.commit()"
   ]
  },
  {
   "cell_type": "code",
   "execution_count": null,
   "metadata": {},
   "outputs": [],
   "source": [
    "\n",
    "def insert_sample(chat_id, sample_dt, cos_sim, completion):\n",
    "    sql = \"INSERT INTO tSample (chat_id, sample_dt, cos_sim, completion ) VALUES ('{}', '{}', '{}', '{}');\".format(chat_id, sample_dt, cos_sim, completion)\n",
    "    print(sql)\n",
    "    \n",
    "insert_sample(\"chat_id\", \"sample_dt\", \"cos_sim\", \"completion\")\n"
   ]
  },
  {
   "cell_type": "code",
   "execution_count": null,
   "metadata": {},
   "outputs": [],
   "source": [
    "res = cursor.execute(\"SELECT score FROM movie\")\n",
    "res.fetchall()"
   ]
  },
  {
   "cell_type": "code",
   "execution_count": null,
   "metadata": {},
   "outputs": [],
   "source": [
    "data = [\n",
    "    (\"Monty Python Live at the Hollywood Bowl\", 1982, 7.9),\n",
    "    (\"Monty Python's The Meaning of Life\", 1983, 7.5),\n",
    "    (\"Monty Python's Life of Brian\", 1979, 8.0),\n",
    "]\n",
    "cursor.executemany(\"INSERT INTO movie VALUES(?, ?, ?)\", data)\n",
    "con.commit()  # Remember to commit the transaction after executing INSERT.\n"
   ]
  },
  {
   "cell_type": "code",
   "execution_count": null,
   "metadata": {},
   "outputs": [],
   "source": [
    "for row in cursor.execute(\"SELECT year, title FROM movie ORDER BY year\"):\n",
    "    print(row)\n"
   ]
  },
  {
   "cell_type": "code",
   "execution_count": null,
   "metadata": {},
   "outputs": [],
   "source": [
    "# Which database file are you using?\n",
    "import sqlite3\n",
    "conxn = sqlite3.connect(DRIFT_DB_PATH)\n",
    "cursor = conxn.cursor()\n",
    "cursor.execute(\"PRAGMA database_list\")\n",
    "rows = cursor.fetchall()\n",
    "\n",
    "for row in rows:\n",
    "    print(row[0], row[1], row[2])\n",
    "\n",
    "conxn.close()\n"
   ]
  },
  {
   "cell_type": "code",
   "execution_count": null,
   "metadata": {},
   "outputs": [],
   "source": [
    "new_con = sqlite3.connect(DRIFT_DB_PATH)\n",
    "new_cursor = new_con.cursor()\n",
    "res = new_cursor.execute(\"DROP TABLE IF EXISTS movie\")\n",
    "res.fetchall()\n",
    "res = new_cursor.execute(\"SELECT name FROM sqlite_master\")\n",
    "res.fetchone()\n",
    "new_con.close()"
   ]
  },
  {
   "cell_type": "code",
   "execution_count": null,
   "metadata": {},
   "outputs": [],
   "source": [
    "import sqlite3\n",
    "import datetime\n",
    "\n",
    "con = sqlite3.connect(DRIFT_DB_PATH)\n",
    "cursor = con.cursor()\n",
    "cursor.execute(\"\"\" PRAGMA foreign_keys = 0;\"\"\")\n",
    "cursor.execute(\"\"\" DELETE FROM tSample;\"\"\")\n",
    "cursor.execute(\"\"\" DROP TABLE tSample;\"\"\")\n",
    "cursor.execute(\"\"\" CREATE TABLE tSample (\n",
    "    chat_id              NOT NULL,\n",
    "    run_time     TEXT    NOT NULL,\n",
    "    cos_sim    NUMERIC   NOT NULL,\n",
    "    completion TEXT      NOT NULL\n",
    ");\"\"\")\n",
    "\n",
    "cursor.execute(\"\"\" PRAGMA foreign_keys = 1; \"\"\")\n",
    "res = cursor.execute(\"SELECT name FROM sqlite_master\")\n",
    "res.fetchone()\n",
    "\n",
    "run_time = ct = datetime.datetime.now().replace(second=0, microsecond=0)\n",
    "def insert_sample(chat_id, cos_sim, completion):\n",
    "    sql = \"INSERT INTO tSample (chat_id, run_time, cos_sim, completion ) VALUES ('{}', '{}', '{}', '{}');\".format(chat_id, run_time, cos_sim, completion)\n",
    "    print(sql)\n",
    "    cursor.execute(sql)\n",
    "    con.commit()\n",
    "    \n",
    "\n",
    "def insert_sample_default(chat_id, cos_sim, completion):\n",
    "    sql = \"INSERT INTO tSample (chat_id, run_time, cos_sim, completion ) VALUES ('{}', '{}', '{}', '{}');\".format(chat_id, run_time, cos_sim, completion)\n",
    "    print(sql)\n",
    "    cursor.execute(sql)\n",
    "    con.commit()    \n",
    "\n",
    "insert_sample_default(\"chat_id00000000\", 1.0, \"completion\")\n"
   ]
  },
  {
   "cell_type": "code",
   "execution_count": null,
   "metadata": {},
   "outputs": [],
   "source": [
    "import sqlite3\n",
    "con = sqlite3.connect(DRIFT_DB_PATH)\n",
    "cursor = con.cursor()\n",
    "\n",
    "cursor.execute(\"\"\" PRAGMA foreign_keys = 1; \"\"\")\n",
    "res = cursor.execute(\"SELECT name FROM sqlite_master\")\n",
    "res.fetchone()\n",
    "\n",
    "run_time = ct = datetime.datetime.now().replace(second=0, microsecond=0)\n",
    "def insert_sample(chat_id, cos_sim, completion):\n",
    "    sql = \"INSERT INTO tSample (chat_id, run_time, cos_sim, completion ) VALUES ('{}', '{}', '{}', '{}');\".format(chat_id, run_time, cos_sim, completion)\n",
    "    print(sql)\n",
    "    cursor.execute(sql)\n",
    "    con.commit()\n",
    "    \n",
    "\n",
    "def insert_sample_default(chat_id, cos_sim, completion):\n",
    "    sql = \"INSERT INTO tSample (chat_id, run_time, cos_sim, completion ) VALUES ('{}', '{}', '{}', '{}');\".format(chat_id, run_time, cos_sim, completion)\n",
    "    print(sql)\n",
    "    cursor.execute(sql)\n",
    "    con.commit()     \n",
    "\n",
    "insert_sample_default(\"chat_id\", \"cos_sim\", \"completion\")"
   ]
  },
  {
   "cell_type": "code",
   "execution_count": null,
   "metadata": {},
   "outputs": [],
   "source": [
    "import sqlite3\n",
    "con = sqlite3.connect(DRIFT_DB_PATH)\n",
    "cursor = con.cursor()\n",
    "for row in cursor.execute(\"SELECT chat_id, run_time, cos_sim, completion FROM tSample;\"):\n",
    "    print(row)\n",
    "\n",
    "con.close()"
   ]
  },
  {
   "cell_type": "code",
   "execution_count": null,
   "metadata": {},
   "outputs": [],
   "source": [
    "import sqlite3\n",
    "con = sqlite3.connect(DRIFT_DB_PATH)\n",
    "cursor = con.cursor()\n",
    "cursor.execute(\"DELETE FROM tSample;\")\n",
    "con.close()"
   ]
  }
 ],
 "metadata": {
  "kernelspec": {
   "display_name": "base",
   "language": "python",
   "name": "python3"
  },
  "language_info": {
   "codemirror_mode": {
    "name": "ipython",
    "version": 3
   },
   "file_extension": ".py",
   "mimetype": "text/x-python",
   "name": "python",
   "nbconvert_exporter": "python",
   "pygments_lexer": "ipython3",
   "version": "3.11.4"
  },
  "orig_nbformat": 4
 },
 "nbformat": 4,
 "nbformat_minor": 2
}
