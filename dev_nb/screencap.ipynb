{
 "cells": [
  {
   "cell_type": "code",
   "execution_count": null,
   "metadata": {},
   "outputs": [],
   "source": [
    "import weaviate\n",
    "client = weaviate.Client(\"http://localhost:8080\")\n",
    "client.schema.delete_all()\n",
    "# ===== add schema =====\n",
    "\n",
    "\n",
    "class_obj = {\n",
    "    \"class\": \"SampleContent\",\n",
    "    \"vectorizer\": \"text2vec-transformers\",  \n",
    "    \"moduleConfig\": {\n",
    "        \"text2vec-transformers\": {\n",
    "            \"model\": \"sentence-transformers/multi-qa-MiniLM-L6-cos-v1\",\n",
    "            \"options\": {\n",
    "                \"waitForModel\": True\n",
    "            }\n",
    "        }\n",
    "    }\n",
    "}\n",
    "client.schema.create_class(class_obj)"
   ]
  },
  {
   "cell_type": "code",
   "execution_count": null,
   "metadata": {},
   "outputs": [],
   "source": [
    "testJson = open('c:\\\\data\\\\fs_combined.json')\n",
    "  \n",
    "# returns JSON object as \n",
    "# a dictionary\n",
    "testData = json.load(testJson)\n",
    "# Closing file\n",
    "testJson.close()"
   ]
  },
  {
   "cell_type": "code",
   "execution_count": null,
   "metadata": {},
   "outputs": [],
   "source": [
    "# Configure a batch process\n",
    "with client.batch(\n",
    "    batch_size=100\n",
    ") as batch:\n",
    "    # Batch import all Questions\n",
    "    for i, d in enumerate(testData):\n",
    "        # print(f\"importing sample content JSON: {i+1}\")\n",
    "        properties = {\n",
    "            \"prompt\": d[\"prompt\"],\n",
    "            \"completion\": d[\"completion\"],\n",
    "            \"date_time\": local_time,\n",
    "            \"chat_id\": json.dumps(uuid.uuid4(), default=str)\n",
    "        }\n",
    "        client.batch.add_data_object(\n",
    "            properties,\n",
    "            \"DriftBenchmark\",\n",
    "        )\n",
    "        \n",
    "print(\"Completed import.\")    "
   ]
  },
  {
   "cell_type": "code",
   "execution_count": null,
   "metadata": {},
   "outputs": [],
   "source": [
    "import csv\n",
    "\n",
    "header = [  'prompt'\n",
    "          , 'completion'\n",
    "          , 'date_time'\n",
    "          , 'chat_id'\n",
    "          , 'cos_sim']\n",
    "data = [  'How much wood could a...'\n",
    "        , 'A woodchuck would chuck...'\n",
    "        , '2023-07-30T13:00:32.831290+07:00'\n",
    "        , 'ba6eb330-4f7f-11eb-a2fb-67c34e9ac07c'\n",
    "        , 0.89336011]\n",
    "\n",
    "with open('drift_benchmark_2023-07-30.csv', 'w', encoding='UTF8') as f:\n",
    "    writer = csv.writer(f)\n",
    "    # write the header\n",
    "    writer.writerow(header)\n",
    "    # for each row in the benchmark\n",
    "    # write the data\n",
    "    writer.writerow(data)\n",
    "# close the file\n",
    "f.close()\n",
    "\n"
   ]
  },
  {
   "cell_type": "code",
   "execution_count": 1,
   "metadata": {},
   "outputs": [
    {
     "name": "stdout",
     "output_type": "stream",
     "text": [
      "2023-07-30T13:00:32.831290+07:00\n"
     ]
    }
   ],
   "source": [
    "from datetime import datetime, timezone\n",
    "local_time = datetime.now(timezone.utc).astimezone().isoformat()\n",
    "\n",
    "print(local_time)"
   ]
  }
 ],
 "metadata": {
  "kernelspec": {
   "display_name": "base",
   "language": "python",
   "name": "python3"
  },
  "language_info": {
   "codemirror_mode": {
    "name": "ipython",
    "version": 3
   },
   "file_extension": ".py",
   "mimetype": "text/x-python",
   "name": "python",
   "nbconvert_exporter": "python",
   "pygments_lexer": "ipython3",
   "version": "3.11.4"
  },
  "orig_nbformat": 4
 },
 "nbformat": 4,
 "nbformat_minor": 2
}
